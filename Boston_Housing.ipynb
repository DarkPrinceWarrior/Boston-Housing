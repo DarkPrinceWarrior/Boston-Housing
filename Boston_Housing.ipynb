{
  "nbformat": 4,
  "nbformat_minor": 0,
  "metadata": {
    "colab": {
      "name": "Boston_Housing.ipynb",
      "provenance": [],
      "collapsed_sections": [],
      "authorship_tag": "ABX9TyM7f8P7Kqx7NDjaZcwNahdE",
      "include_colab_link": true
    },
    "kernelspec": {
      "name": "python3",
      "display_name": "Python 3"
    },
    "language_info": {
      "name": "python"
    }
  },
  "cells": [
    {
      "cell_type": "markdown",
      "metadata": {
        "id": "view-in-github",
        "colab_type": "text"
      },
      "source": [
        "<a href=\"https://colab.research.google.com/github/DarkPrinceWarrior/Boston-Housing/blob/main/Boston_Housing.ipynb\" target=\"_parent\"><img src=\"https://colab.research.google.com/assets/colab-badge.svg\" alt=\"Open In Colab\"/></a>"
      ]
    },
    {
      "cell_type": "code",
      "metadata": {
        "id": "51BUFKeS2KhR"
      },
      "source": [
        "from keras.datasets import boston_housing\n",
        "\n",
        "(train_data, train_labels),(test_data, test_labels) = boston_housing.load_data()\n"
      ],
      "execution_count": 20,
      "outputs": []
    },
    {
      "cell_type": "code",
      "metadata": {
        "id": "BE6AbLdh7PXz"
      },
      "source": [
        "# data preparation = normalization\n",
        "\n",
        "# average value on the given axis (columns)\n",
        "mean = train_data.mean(axis=0)\n",
        "\n",
        "# substraction of mean from particular column data in dataset \n",
        "train_data -=mean\n",
        "# standard deviation of columns\n",
        "std = train_data.std(axis=0)\n",
        "\n",
        "train_data/=std\n",
        "\n",
        "test_data-=mean\n",
        "test_data/=std\n",
        "\n"
      ],
      "execution_count": 21,
      "outputs": []
    },
    {
      "cell_type": "code",
      "metadata": {
        "id": "hfzbbyAy_yel"
      },
      "source": [
        "from keras import models \n",
        "from keras import layers\n",
        "\n",
        "def build_model():\n",
        "  model = models.Sequential()\n",
        "  model.add(layers.Dense(64, activation=\"relu\", input_shape=(train_data.shape[1],)))\n",
        "  model.add(layers.Dense(64,activation=\"relu\"))\n",
        "  model.add(layers.Dense(1))\n",
        "  model.compile(optimizer = \"rmsprop\",\n",
        "    loss = \"mse\",\n",
        "    metrics = ['mae'])\n",
        "  return model"
      ],
      "execution_count": 22,
      "outputs": []
    },
    {
      "cell_type": "code",
      "metadata": {
        "colab": {
          "base_uri": "https://localhost:8080/"
        },
        "id": "5t7TYXe8C0la",
        "outputId": "0e6da71d-c9fc-4c74-ee61-9f789a37f463"
      },
      "source": [
        "# K-fold cross-validation\n",
        "import numpy as np\n",
        "\n",
        "k = 4\n",
        "num_epochs = 100\n",
        "num_val_samples = len(train_data)//k\n",
        "all_scores = []\n",
        "\n",
        "for i in range(k):\n",
        "  print(\"K model number: \",i)\n",
        "  val_data = train_data[i*num_val_samples:(i+1)*num_val_samples]\n",
        "  val_targets = train_labels[i*num_val_samples:(i+1)*num_val_samples]\n",
        "\n",
        "  partial_train_data = np.concatenate([train_data[:i*num_val_samples], \n",
        "                              train_data[(i+1)*num_val_samples:]],axis=0)\n",
        "  \n",
        "  partial_train_targets = np.concatenate([train_labels[:i*num_val_samples], \n",
        "                              train_labels[(i+1)*num_val_samples:]],axis=0)\n",
        "  \n",
        "  model = build_model()\n",
        "  model.fit(partial_train_data,partial_train_targets,\n",
        "            epochs =num_epochs,\n",
        "            batch_size = 1, verbose =0)\n",
        "  \n",
        "  val_mse, val_mae = model.evaluate(val_data,val_targets, verbose =0)\n",
        "  all_scores.append(val_mae)\n",
        "\n",
        "print(all_scores)\n",
        "print(np.mean(all_scores))\n"
      ],
      "execution_count": 23,
      "outputs": [
        {
          "output_type": "stream",
          "name": "stdout",
          "text": [
            "K model number:  0\n",
            "K model number:  1\n",
            "K model number:  2\n",
            "K model number:  3\n",
            "[2.0027923583984375, 2.4924309253692627, 2.8038148880004883, 2.618802785873413]\n",
            "2.4794602394104004\n"
          ]
        }
      ]
    },
    {
      "cell_type": "code",
      "metadata": {
        "colab": {
          "base_uri": "https://localhost:8080/"
        },
        "id": "cx6_hyCWBDsu",
        "outputId": "7873f981-4848-4b08-8578-218fc9fbc56f"
      },
      "source": [
        "# final model learning\n",
        "model = build_model()\n",
        "model.fit(train_data,train_labels, \n",
        "          epochs=80,batch_size=16, verbose=0)\n",
        "test_nse_score, test_mae_score = model.evaluate(test_data, test_labels)\n",
        "test_mae_score"
      ],
      "execution_count": 25,
      "outputs": [
        {
          "output_type": "stream",
          "name": "stdout",
          "text": [
            "4/4 [==============================] - 0s 3ms/step - loss: 18.0367 - mae: 2.7341\n"
          ]
        },
        {
          "output_type": "execute_result",
          "data": {
            "text/plain": [
              "2.73407244682312"
            ]
          },
          "metadata": {},
          "execution_count": 25
        }
      ]
    }
  ]
}